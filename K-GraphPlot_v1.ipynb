{
 "cells": [
  {
   "cell_type": "markdown",
   "metadata": {},
   "source": [
    "# Plot field test Hydraulic Conductivity values against Freeze and Cherry (1979) theoretical Hydraulic Conductivity ranges for various rock types."
   ]
  },
  {
   "cell_type": "markdown",
   "metadata": {},
   "source": [
    "# 1) Load All Libraries \n",
    "## 1.1) Import Required Packages:"
   ]
  },
  {
   "cell_type": "code",
   "execution_count": 1,
   "metadata": {},
   "outputs": [],
   "source": [
    "#Import Packages: \n",
    "import pandas as pd\n",
    "import numpy as np\n",
    "import matplotlib.pyplot as plt\n",
    "\n",
    "from matplotlib import rcParams \n",
    "rcParams['font.family']='sans-serif'\n",
    "rcParams['font.sans-serif']=['Arial']\n",
    "rcParams['ytick.labelsize'] = 13\n",
    "rcParams['xtick.labelsize'] = 13\n",
    "rcParams['xtick.labelcolor'] = 'dimgrey'\n",
    "rcParams['ytick.labelcolor'] = 'dimgrey'\n",
    "\n",
    "import warnings\n",
    "warnings.filterwarnings('ignore')"
   ]
  },
  {
   "cell_type": "markdown",
   "metadata": {},
   "source": [
    "## 1.2) Load the range of hydraulic conductivities for various rock types, based on Freeze and Cherry (1979)"
   ]
  },
  {
   "cell_type": "code",
   "execution_count": 2,
   "metadata": {},
   "outputs": [],
   "source": [
    "dic_rock_krange = {'rock_name':('Weathered Granite','Karst Limestone','Permeable Basalt','Fractured Igneous and Metamorphic Rocks','Limestone and Dolomite','Sandstone','Kimberlite Pipes','Shale','Unfractured Igneous and Metamorphic Rocks','Unweathered Marine Clay','Glacial Till','Silt, Loess','Silty Sand','Clean Sand','Gravel','Coarse Sand','Medium Sand','Fine Sand'),\n",
    "                   'k_max': (4.49, 1730, 1730, 25.9, 0.518, 0.518, 1.5, 0.000173, 0.000017, 0.000173, 0.173, 1.73, 20, 300, 2590, 518, 43.2, 17.3),\n",
    "                   'k_min': (2.850000e-01,8.640000e-02,3.460000e-02,6.910000e-04,8.640000e-05,2.590000e-05,6.000000e-07,8.640000e-09,2.590000e-09,6.910000e-08,8.640000e-08,8.640000e-05,4.500000e-02,5.000000e-01,2.590000e+01,7.780000e-02,7.780000e-02,1.730000e-02),\n",
    "                   'loc': (85,95,90,80,75,70,65,60,55,50,45,40,30,35,5,10,20,25)}"
   ]
  },
  {
   "cell_type": "code",
   "execution_count": 3,
   "metadata": {},
   "outputs": [],
   "source": [
    "#'loc': (95,90,85,80,75,70,65,60,55,45,40,35,30,25,20,15,10,5)}"
   ]
  },
  {
   "cell_type": "code",
   "execution_count": 4,
   "metadata": {},
   "outputs": [
    {
     "data": {
      "text/html": [
       "<div>\n",
       "<style scoped>\n",
       "    .dataframe tbody tr th:only-of-type {\n",
       "        vertical-align: middle;\n",
       "    }\n",
       "\n",
       "    .dataframe tbody tr th {\n",
       "        vertical-align: top;\n",
       "    }\n",
       "\n",
       "    .dataframe thead th {\n",
       "        text-align: right;\n",
       "    }\n",
       "</style>\n",
       "<table border=\"1\" class=\"dataframe\">\n",
       "  <thead>\n",
       "    <tr style=\"text-align: right;\">\n",
       "      <th></th>\n",
       "      <th>rock_name</th>\n",
       "      <th>k_max</th>\n",
       "      <th>k_min</th>\n",
       "      <th>loc</th>\n",
       "    </tr>\n",
       "  </thead>\n",
       "  <tbody>\n",
       "    <tr>\n",
       "      <th>0</th>\n",
       "      <td>Weathered Granite</td>\n",
       "      <td>4.490000</td>\n",
       "      <td>2.850000e-01</td>\n",
       "      <td>85</td>\n",
       "    </tr>\n",
       "    <tr>\n",
       "      <th>1</th>\n",
       "      <td>Karst Limestone</td>\n",
       "      <td>1730.000000</td>\n",
       "      <td>8.640000e-02</td>\n",
       "      <td>95</td>\n",
       "    </tr>\n",
       "    <tr>\n",
       "      <th>2</th>\n",
       "      <td>Permeable Basalt</td>\n",
       "      <td>1730.000000</td>\n",
       "      <td>3.460000e-02</td>\n",
       "      <td>90</td>\n",
       "    </tr>\n",
       "    <tr>\n",
       "      <th>3</th>\n",
       "      <td>Fractured Igneous and Metamorphic Rocks</td>\n",
       "      <td>25.900000</td>\n",
       "      <td>6.910000e-04</td>\n",
       "      <td>80</td>\n",
       "    </tr>\n",
       "    <tr>\n",
       "      <th>4</th>\n",
       "      <td>Limestone and Dolomite</td>\n",
       "      <td>0.518000</td>\n",
       "      <td>8.640000e-05</td>\n",
       "      <td>75</td>\n",
       "    </tr>\n",
       "    <tr>\n",
       "      <th>5</th>\n",
       "      <td>Sandstone</td>\n",
       "      <td>0.518000</td>\n",
       "      <td>2.590000e-05</td>\n",
       "      <td>70</td>\n",
       "    </tr>\n",
       "    <tr>\n",
       "      <th>6</th>\n",
       "      <td>Kimberlite Pipes</td>\n",
       "      <td>1.500000</td>\n",
       "      <td>6.000000e-07</td>\n",
       "      <td>65</td>\n",
       "    </tr>\n",
       "    <tr>\n",
       "      <th>7</th>\n",
       "      <td>Shale</td>\n",
       "      <td>0.000173</td>\n",
       "      <td>8.640000e-09</td>\n",
       "      <td>60</td>\n",
       "    </tr>\n",
       "    <tr>\n",
       "      <th>8</th>\n",
       "      <td>Unfractured Igneous and Metamorphic Rocks</td>\n",
       "      <td>0.000017</td>\n",
       "      <td>2.590000e-09</td>\n",
       "      <td>55</td>\n",
       "    </tr>\n",
       "    <tr>\n",
       "      <th>9</th>\n",
       "      <td>Unweathered Marine Clay</td>\n",
       "      <td>0.000173</td>\n",
       "      <td>6.910000e-08</td>\n",
       "      <td>50</td>\n",
       "    </tr>\n",
       "    <tr>\n",
       "      <th>10</th>\n",
       "      <td>Glacial Till</td>\n",
       "      <td>0.173000</td>\n",
       "      <td>8.640000e-08</td>\n",
       "      <td>45</td>\n",
       "    </tr>\n",
       "    <tr>\n",
       "      <th>11</th>\n",
       "      <td>Silt, Loess</td>\n",
       "      <td>1.730000</td>\n",
       "      <td>8.640000e-05</td>\n",
       "      <td>40</td>\n",
       "    </tr>\n",
       "    <tr>\n",
       "      <th>12</th>\n",
       "      <td>Silty Sand</td>\n",
       "      <td>20.000000</td>\n",
       "      <td>4.500000e-02</td>\n",
       "      <td>30</td>\n",
       "    </tr>\n",
       "    <tr>\n",
       "      <th>13</th>\n",
       "      <td>Clean Sand</td>\n",
       "      <td>300.000000</td>\n",
       "      <td>5.000000e-01</td>\n",
       "      <td>35</td>\n",
       "    </tr>\n",
       "    <tr>\n",
       "      <th>14</th>\n",
       "      <td>Gravel</td>\n",
       "      <td>2590.000000</td>\n",
       "      <td>2.590000e+01</td>\n",
       "      <td>5</td>\n",
       "    </tr>\n",
       "    <tr>\n",
       "      <th>15</th>\n",
       "      <td>Coarse Sand</td>\n",
       "      <td>518.000000</td>\n",
       "      <td>7.780000e-02</td>\n",
       "      <td>10</td>\n",
       "    </tr>\n",
       "    <tr>\n",
       "      <th>16</th>\n",
       "      <td>Medium Sand</td>\n",
       "      <td>43.200000</td>\n",
       "      <td>7.780000e-02</td>\n",
       "      <td>20</td>\n",
       "    </tr>\n",
       "    <tr>\n",
       "      <th>17</th>\n",
       "      <td>Fine Sand</td>\n",
       "      <td>17.300000</td>\n",
       "      <td>1.730000e-02</td>\n",
       "      <td>25</td>\n",
       "    </tr>\n",
       "  </tbody>\n",
       "</table>\n",
       "</div>"
      ],
      "text/plain": [
       "                                    rock_name        k_max         k_min  loc\n",
       "0                           Weathered Granite     4.490000  2.850000e-01   85\n",
       "1                             Karst Limestone  1730.000000  8.640000e-02   95\n",
       "2                            Permeable Basalt  1730.000000  3.460000e-02   90\n",
       "3     Fractured Igneous and Metamorphic Rocks    25.900000  6.910000e-04   80\n",
       "4                      Limestone and Dolomite     0.518000  8.640000e-05   75\n",
       "5                                   Sandstone     0.518000  2.590000e-05   70\n",
       "6                            Kimberlite Pipes     1.500000  6.000000e-07   65\n",
       "7                                       Shale     0.000173  8.640000e-09   60\n",
       "8   Unfractured Igneous and Metamorphic Rocks     0.000017  2.590000e-09   55\n",
       "9                     Unweathered Marine Clay     0.000173  6.910000e-08   50\n",
       "10                               Glacial Till     0.173000  8.640000e-08   45\n",
       "11                                Silt, Loess     1.730000  8.640000e-05   40\n",
       "12                                 Silty Sand    20.000000  4.500000e-02   30\n",
       "13                                 Clean Sand   300.000000  5.000000e-01   35\n",
       "14                                     Gravel  2590.000000  2.590000e+01    5\n",
       "15                                Coarse Sand   518.000000  7.780000e-02   10\n",
       "16                                Medium Sand    43.200000  7.780000e-02   20\n",
       "17                                  Fine Sand    17.300000  1.730000e-02   25"
      ]
     },
     "execution_count": 4,
     "metadata": {},
     "output_type": "execute_result"
    }
   ],
   "source": [
    "df = pd.DataFrame(dic_rock_krange)\n",
    "df"
   ]
  },
  {
   "cell_type": "code",
   "execution_count": 5,
   "metadata": {},
   "outputs": [
    {
     "name": "stdout",
     "output_type": "stream",
     "text": [
      "([array(['Weathered Granite', 'Karst Limestone', 'Permeable Basalt',\n",
      "       'Fractured Igneous and Metamorphic Rocks',\n",
      "       'Limestone and Dolomite', 'Sandstone', 'Kimberlite Pipes', 'Shale',\n",
      "       'Unfractured Igneous and Metamorphic Rocks',\n",
      "       'Unweathered Marine Clay', 'Glacial Till', 'Silt, Loess',\n",
      "       'Silty Sand', 'Clean Sand', 'Gravel', 'Coarse Sand', 'Medium Sand',\n",
      "       'Fine Sand'], dtype=object)], [array([4.49e+00, 1.73e+03, 1.73e+03, 2.59e+01, 5.18e-01, 5.18e-01,\n",
      "       1.50e+00, 1.73e-04, 1.70e-05, 1.73e-04, 1.73e-01, 1.73e+00,\n",
      "       2.00e+01, 3.00e+02, 2.59e+03, 5.18e+02, 4.32e+01, 1.73e+01])], [array([2.85e-01, 8.64e-02, 3.46e-02, 6.91e-04, 8.64e-05, 2.59e-05,\n",
      "       6.00e-07, 8.64e-09, 2.59e-09, 6.91e-08, 8.64e-08, 8.64e-05,\n",
      "       4.50e-02, 5.00e-01, 2.59e+01, 7.78e-02, 7.78e-02, 1.73e-02])], [array([85, 95, 90, 80, 75, 70, 65, 60, 55, 50, 45, 40, 30, 35,  5, 10, 20,\n",
      "       25], dtype=int64)])\n"
     ]
    }
   ],
   "source": [
    "#Baseplot - Declare Data:\n",
    "rocktype = np.array(df['rock_name'])\n",
    "kmax = np.array(df['k_max'])\n",
    "kmin = np.array(df['k_min'])\n",
    "loc = np.array(df['loc'])\n",
    "\n",
    "# Baseplot - Create Arrays from BasePlot Data:\n",
    "rocktype_np = np.array(rocktype)\n",
    "kmax_np = np.array(kmax)\n",
    "kmin_np = np.array(kmin)\n",
    "loc_np = np.array(loc)\n",
    "height = kmax_np-kmin_np\n",
    "\n",
    "georocdata = ([rocktype_np], [kmax_np], [kmin_np], [loc_np])\n",
    "print(georocdata)\n"
   ]
  },
  {
   "cell_type": "markdown",
   "metadata": {},
   "source": [
    "# 2) Load Field Hydraulic Conductivity Test Data"
   ]
  },
  {
   "cell_type": "code",
   "execution_count": 6,
   "metadata": {},
   "outputs": [
    {
     "data": {
      "text/html": [
       "<div>\n",
       "<style scoped>\n",
       "    .dataframe tbody tr th:only-of-type {\n",
       "        vertical-align: middle;\n",
       "    }\n",
       "\n",
       "    .dataframe tbody tr th {\n",
       "        vertical-align: top;\n",
       "    }\n",
       "\n",
       "    .dataframe thead th {\n",
       "        text-align: right;\n",
       "    }\n",
       "</style>\n",
       "<table border=\"1\" class=\"dataframe\">\n",
       "  <thead>\n",
       "    <tr style=\"text-align: right;\">\n",
       "      <th></th>\n",
       "      <th>Bore_ID</th>\n",
       "      <th>Area</th>\n",
       "      <th>Fn_Name_basedOnFreez&amp;Cherry</th>\n",
       "      <th>K-value (m/d)</th>\n",
       "    </tr>\n",
       "  </thead>\n",
       "  <tbody>\n",
       "    <tr>\n",
       "      <th>0</th>\n",
       "      <td>TMB-TW01</td>\n",
       "      <td>South</td>\n",
       "      <td>Fractured Igneous and Metamorphic Rocks</td>\n",
       "      <td>16.200000</td>\n",
       "    </tr>\n",
       "    <tr>\n",
       "      <th>1</th>\n",
       "      <td>TMB-TW02</td>\n",
       "      <td>North</td>\n",
       "      <td>Limestone and Dolomite</td>\n",
       "      <td>0.012800</td>\n",
       "    </tr>\n",
       "    <tr>\n",
       "      <th>2</th>\n",
       "      <td>DME-VWP01</td>\n",
       "      <td>North</td>\n",
       "      <td>Weathered Granite</td>\n",
       "      <td>0.300000</td>\n",
       "    </tr>\n",
       "    <tr>\n",
       "      <th>3</th>\n",
       "      <td>SWM-MP02</td>\n",
       "      <td>East</td>\n",
       "      <td>Unfractured Igneous and Metamorphic Rocks</td>\n",
       "      <td>0.000003</td>\n",
       "    </tr>\n",
       "  </tbody>\n",
       "</table>\n",
       "</div>"
      ],
      "text/plain": [
       "     Bore_ID   Area                Fn_Name_basedOnFreez&Cherry  K-value (m/d)\n",
       "0   TMB-TW01  South    Fractured Igneous and Metamorphic Rocks      16.200000\n",
       "1   TMB-TW02  North                     Limestone and Dolomite       0.012800\n",
       "2  DME-VWP01  North                          Weathered Granite       0.300000\n",
       "3   SWM-MP02   East  Unfractured Igneous and Metamorphic Rocks       0.000003"
      ]
     },
     "execution_count": 6,
     "metadata": {},
     "output_type": "execute_result"
    }
   ],
   "source": [
    "# Data - Examples of Aquifer Test K-values that I want to Plot as Points onto the Grapth\n",
    "#Data - Import field/Aquifer Test Data:\n",
    "data = pd.read_csv('AQT_KValues.csv')\n",
    "data"
   ]
  },
  {
   "cell_type": "code",
   "execution_count": 7,
   "metadata": {},
   "outputs": [
    {
     "data": {
      "text/plain": [
       "array(['Weathered Granite', 'Karst Limestone', 'Permeable Basalt',\n",
       "       'Fractured Igneous and Metamorphic Rocks',\n",
       "       'Limestone and Dolomite', 'Sandstone', 'Kimberlite Pipes', 'Shale',\n",
       "       'Unfractured Igneous and Metamorphic Rocks',\n",
       "       'Unweathered Marine Clay', 'Glacial Till', 'Silt, Loess',\n",
       "       'Silty Sand', 'Clean Sand', 'Gravel', 'Coarse Sand', 'Medium Sand',\n",
       "       'Fine Sand'], dtype=object)"
      ]
     },
     "execution_count": 7,
     "metadata": {},
     "output_type": "execute_result"
    }
   ],
   "source": [
    "rocktype_np"
   ]
  },
  {
   "cell_type": "code",
   "execution_count": 8,
   "metadata": {},
   "outputs": [
    {
     "data": {
      "text/plain": [
       "array([4.49e+00, 1.73e+03, 1.73e+03, 2.59e+01, 5.18e-01, 5.18e-01,\n",
       "       1.50e+00, 1.73e-04, 1.70e-05, 1.73e-04, 1.73e-01, 1.73e+00,\n",
       "       2.00e+01, 3.00e+02, 2.59e+03, 5.18e+02, 4.32e+01, 1.73e+01])"
      ]
     },
     "execution_count": 8,
     "metadata": {},
     "output_type": "execute_result"
    }
   ],
   "source": [
    "kmax_np"
   ]
  },
  {
   "cell_type": "markdown",
   "metadata": {},
   "source": [
    "# 3) Plot Hydraulic Conductivities Values"
   ]
  },
  {
   "cell_type": "code",
   "execution_count": 10,
   "metadata": {},
   "outputs": [
    {
     "data": {
      "image/png": "[encoded data removed]",
      "text/plain": [
       "<Figure size 1440x1008 with 1 Axes>"
      ]
     },
     "metadata": {
      "needs_background": "light"
     },
     "output_type": "display_data"
    }
   ],
   "source": [
    "# Create  plot\n",
    "fig,(ax)=plt.subplots(1,1,figsize=(20,14))     \n",
    "\n",
    "# Plot Hydrualic Conductivity Zones:\n",
    "plt.axvspan(100, 10000, facecolor='r', alpha=0.14)             #'High'\n",
    "plt.axvspan(0.1, 100, facecolor='y', alpha=0.14)               #'Intermediate'\n",
    "plt.axvspan(0.001, 0.1, facecolor='g', alpha=0.14)              #'Low'\n",
    "plt.axvspan(0.000001, 0.001, facecolor='b', alpha=0.14)         #'Very Low'\n",
    "plt.axvspan(0.000000001, 0.000001, facecolor='k', alpha=0.11)  #'Essent. Impermeable'\n",
    "\n",
    "ax.barh(rocktype_np, kmax_np, left= kmin_np, height=-0.8, align='center', color='lightsteelblue',zorder=1) #color hex=#eac086 #BCDFC1\n",
    "ax.scatter(data['K-value (m/d)'], data['Fn_Name_basedOnFreez&Cherry'], marker='o', zorder=10, color='r', label=\"Data\")\n",
    "\n",
    "# Add text\n",
    "ax.annotate('Very High', xy=(100, 'Fine Sand'), xycoords='data', xytext=(30,30), textcoords='offset points',fontsize=16,color='dimgrey')\n",
    "ax.annotate('High', xy=(1, 'Fine Sand'), xycoords='data', xytext=(15,30), textcoords='offset points',fontsize=16,color='dimgrey')\n",
    "ax.annotate('Moderatly', xy=(0.01, 'Fine Sand'), xycoords='data', xytext=(-40,30), textcoords='offset points',fontsize=16,color='dimgrey')\n",
    "ax.annotate('Low', xy=(0.00001, 'Fine Sand'), xycoords='data', xytext=(25,30), textcoords='offset points',fontsize=16,color='dimgrey')\n",
    "ax.annotate('Very Low', xy=(0.00000001, 'Fine Sand'), xycoords='data', xytext=(10,30), textcoords='offset points',fontsize=16,color='dimgrey')\n",
    "\n",
    "ax.set_xscale('log')\n",
    "#ax.set_xticks()\n",
    "\n",
    "ax.set_xlabel('Hydraulic Conductivity (m/d) \\n[Source: after Freeze and Cherry, 1979]',fontsize=14,color='dimgrey')\n",
    "ax.set_title('Range of Hydraulic Conductivities for Various Rock Types',fontsize=18,color='dimgrey')\n",
    "n = data['Bore_ID']\n",
    "for i, txt in enumerate(n):\n",
    "    ax.annotate(txt, (data['K-value (m/d)'][i], data['Fn_Name_basedOnFreez&Cherry'][i]))\n",
    "\n",
    "ax.grid()\n",
    "ax.set_xlim(0.000000001,10000)\n",
    "ax.legend()\n",
    "# save the figure to file\n",
    "plt.savefig(r'K_Plot1.png',dpi=300,bbox_inches='tight') "
   ]
  },
  {
   "cell_type": "code",
   "execution_count": null,
   "metadata": {},
   "outputs": [],
   "source": []
  }
 ],
 "metadata": {
  "kernelspec": {
   "display_name": "Python 3 (ipykernel)",
   "language": "python",
   "name": "python3"
  },
  "language_info": {
   "codemirror_mode": {
    "name": "ipython",
    "version": 3
   },
   "file_extension": ".py",
   "mimetype": "text/x-python",
   "name": "python",
   "nbconvert_exporter": "python",
   "pygments_lexer": "ipython3",
   "version": "3.8.12"
  }
 },
 "nbformat": 4,
 "nbformat_minor": 4
}
