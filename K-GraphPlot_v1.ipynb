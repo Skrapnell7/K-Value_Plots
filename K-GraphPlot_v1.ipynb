{
 "cells": [
  {
   "cell_type": "code",
   "execution_count": 1,
   "metadata": {},
   "outputs": [
    {
     "data": {
      "text/html": [
       "<div>\n",
       "<style scoped>\n",
       "    .dataframe tbody tr th:only-of-type {\n",
       "        vertical-align: middle;\n",
       "    }\n",
       "\n",
       "    .dataframe tbody tr th {\n",
       "        vertical-align: top;\n",
       "    }\n",
       "\n",
       "    .dataframe thead th {\n",
       "        text-align: right;\n",
       "    }\n",
       "</style>\n",
       "<table border=\"1\" class=\"dataframe\">\n",
       "  <thead>\n",
       "    <tr style=\"text-align: right;\">\n",
       "      <th></th>\n",
       "      <th>rock_name</th>\n",
       "      <th>k_max</th>\n",
       "      <th>k_min</th>\n",
       "      <th>loc</th>\n",
       "    </tr>\n",
       "  </thead>\n",
       "  <tbody>\n",
       "    <tr>\n",
       "      <th>0</th>\n",
       "      <td>Weathered Granite</td>\n",
       "      <td>4.490000</td>\n",
       "      <td>2.850000e-01</td>\n",
       "      <td>95</td>\n",
       "    </tr>\n",
       "    <tr>\n",
       "      <th>1</th>\n",
       "      <td>Karst Limestone</td>\n",
       "      <td>1730.000000</td>\n",
       "      <td>8.640000e-02</td>\n",
       "      <td>90</td>\n",
       "    </tr>\n",
       "    <tr>\n",
       "      <th>2</th>\n",
       "      <td>Permeable Basalt</td>\n",
       "      <td>1730.000000</td>\n",
       "      <td>3.460000e-02</td>\n",
       "      <td>85</td>\n",
       "    </tr>\n",
       "    <tr>\n",
       "      <th>3</th>\n",
       "      <td>Fractured Igneous and Metamorphic Rocks</td>\n",
       "      <td>25.900000</td>\n",
       "      <td>6.910000e-04</td>\n",
       "      <td>80</td>\n",
       "    </tr>\n",
       "    <tr>\n",
       "      <th>4</th>\n",
       "      <td>Limestone and Dolomite</td>\n",
       "      <td>0.518000</td>\n",
       "      <td>8.640000e-05</td>\n",
       "      <td>75</td>\n",
       "    </tr>\n",
       "    <tr>\n",
       "      <th>5</th>\n",
       "      <td>Sandstone</td>\n",
       "      <td>0.518000</td>\n",
       "      <td>2.590000e-05</td>\n",
       "      <td>70</td>\n",
       "    </tr>\n",
       "    <tr>\n",
       "      <th>6</th>\n",
       "      <td>Kimberlite Pipes</td>\n",
       "      <td>1.500000</td>\n",
       "      <td>6.000000e-07</td>\n",
       "      <td>65</td>\n",
       "    </tr>\n",
       "    <tr>\n",
       "      <th>7</th>\n",
       "      <td>Shale</td>\n",
       "      <td>0.000173</td>\n",
       "      <td>8.640000e-09</td>\n",
       "      <td>60</td>\n",
       "    </tr>\n",
       "    <tr>\n",
       "      <th>8</th>\n",
       "      <td>Unfractured Igneous and Metamorphic Rocks</td>\n",
       "      <td>0.000017</td>\n",
       "      <td>2.590000e-09</td>\n",
       "      <td>55</td>\n",
       "    </tr>\n",
       "    <tr>\n",
       "      <th>9</th>\n",
       "      <td>Unweathered Marine Clay</td>\n",
       "      <td>0.000173</td>\n",
       "      <td>6.910000e-08</td>\n",
       "      <td>45</td>\n",
       "    </tr>\n",
       "    <tr>\n",
       "      <th>10</th>\n",
       "      <td>Glacial Till</td>\n",
       "      <td>0.173000</td>\n",
       "      <td>8.640000e-08</td>\n",
       "      <td>40</td>\n",
       "    </tr>\n",
       "    <tr>\n",
       "      <th>11</th>\n",
       "      <td>Silt, Loess</td>\n",
       "      <td>1.730000</td>\n",
       "      <td>8.640000e-05</td>\n",
       "      <td>35</td>\n",
       "    </tr>\n",
       "    <tr>\n",
       "      <th>12</th>\n",
       "      <td>Silty Sand</td>\n",
       "      <td>20.000000</td>\n",
       "      <td>4.500000e-02</td>\n",
       "      <td>30</td>\n",
       "    </tr>\n",
       "    <tr>\n",
       "      <th>13</th>\n",
       "      <td>Clean Sand</td>\n",
       "      <td>300.000000</td>\n",
       "      <td>5.000000e-01</td>\n",
       "      <td>25</td>\n",
       "    </tr>\n",
       "    <tr>\n",
       "      <th>14</th>\n",
       "      <td>Gravel</td>\n",
       "      <td>2590.000000</td>\n",
       "      <td>2.590000e+01</td>\n",
       "      <td>20</td>\n",
       "    </tr>\n",
       "    <tr>\n",
       "      <th>15</th>\n",
       "      <td>Coarse Sand</td>\n",
       "      <td>518.000000</td>\n",
       "      <td>7.780000e-02</td>\n",
       "      <td>15</td>\n",
       "    </tr>\n",
       "    <tr>\n",
       "      <th>16</th>\n",
       "      <td>Medium Sand</td>\n",
       "      <td>43.200000</td>\n",
       "      <td>7.780000e-02</td>\n",
       "      <td>10</td>\n",
       "    </tr>\n",
       "    <tr>\n",
       "      <th>17</th>\n",
       "      <td>Fine Sand</td>\n",
       "      <td>17.300000</td>\n",
       "      <td>1.730000e-02</td>\n",
       "      <td>5</td>\n",
       "    </tr>\n",
       "  </tbody>\n",
       "</table>\n",
       "</div>"
      ],
      "text/plain": [
       "                                    rock_name        k_max         k_min  loc\n",
       "0                           Weathered Granite     4.490000  2.850000e-01   95\n",
       "1                             Karst Limestone  1730.000000  8.640000e-02   90\n",
       "2                            Permeable Basalt  1730.000000  3.460000e-02   85\n",
       "3     Fractured Igneous and Metamorphic Rocks    25.900000  6.910000e-04   80\n",
       "4                      Limestone and Dolomite     0.518000  8.640000e-05   75\n",
       "5                                   Sandstone     0.518000  2.590000e-05   70\n",
       "6                            Kimberlite Pipes     1.500000  6.000000e-07   65\n",
       "7                                       Shale     0.000173  8.640000e-09   60\n",
       "8   Unfractured Igneous and Metamorphic Rocks     0.000017  2.590000e-09   55\n",
       "9                     Unweathered Marine Clay     0.000173  6.910000e-08   45\n",
       "10                               Glacial Till     0.173000  8.640000e-08   40\n",
       "11                                Silt, Loess     1.730000  8.640000e-05   35\n",
       "12                                 Silty Sand    20.000000  4.500000e-02   30\n",
       "13                                 Clean Sand   300.000000  5.000000e-01   25\n",
       "14                                     Gravel  2590.000000  2.590000e+01   20\n",
       "15                                Coarse Sand   518.000000  7.780000e-02   15\n",
       "16                                Medium Sand    43.200000  7.780000e-02   10\n",
       "17                                  Fine Sand    17.300000  1.730000e-02    5"
      ]
     },
     "execution_count": 1,
     "metadata": {},
     "output_type": "execute_result"
    }
   ],
   "source": [
    "# Creating a Hydraulic Conductivity Distribution Rage BasePlot\n",
    "\n",
    "#Import Packages: \n",
    "import pandas as pd\n",
    "import numpy as np\n",
    "import matplotlib.pyplot as plt\n",
    "\n",
    "# Baseplot - Import BasePlot Data:\n",
    "df = pd.read_csv('georock.csv')\n",
    "df"
   ]
  },
  {
   "cell_type": "code",
   "execution_count": 2,
   "metadata": {},
   "outputs": [
    {
     "data": {
      "text/plain": [
       "count      18.000000\n",
       "mean      387.962742\n",
       "std       780.128749\n",
       "min         0.000017\n",
       "25%         0.518000\n",
       "50%        10.895000\n",
       "75%       235.800000\n",
       "max      2590.000000\n",
       "Name: k_max, dtype: float64"
      ]
     },
     "execution_count": 2,
     "metadata": {},
     "output_type": "execute_result"
    }
   ],
   "source": [
    "df.k_max.describe()"
   ]
  },
  {
   "cell_type": "code",
   "execution_count": 3,
   "metadata": {},
   "outputs": [
    {
     "name": "stdout",
     "output_type": "stream",
     "text": [
      "([array(['Weathered Granite', 'Karst Limestone', 'Permeable Basalt',\n",
      "       'Fractured Igneous and Metamorphic Rocks',\n",
      "       'Limestone and Dolomite', 'Sandstone', 'Kimberlite Pipes', 'Shale',\n",
      "       'Unfractured Igneous and Metamorphic Rocks',\n",
      "       'Unweathered Marine Clay', 'Glacial Till', 'Silt, Loess',\n",
      "       'Silty Sand', 'Clean Sand', 'Gravel', 'Coarse Sand', 'Medium Sand',\n",
      "       'Fine Sand'], dtype=object)], [array([4.49e+00, 1.73e+03, 1.73e+03, 2.59e+01, 5.18e-01, 5.18e-01,\n",
      "       1.50e+00, 1.73e-04, 1.70e-05, 1.73e-04, 1.73e-01, 1.73e+00,\n",
      "       2.00e+01, 3.00e+02, 2.59e+03, 5.18e+02, 4.32e+01, 1.73e+01])], [array([2.85e-01, 8.64e-02, 3.46e-02, 6.91e-04, 8.64e-05, 2.59e-05,\n",
      "       6.00e-07, 8.64e-09, 2.59e-09, 6.91e-08, 8.64e-08, 8.64e-05,\n",
      "       4.50e-02, 5.00e-01, 2.59e+01, 7.78e-02, 7.78e-02, 1.73e-02])], [array([95, 90, 85, 80, 75, 70, 65, 60, 55, 45, 40, 35, 30, 25, 20, 15, 10,\n",
      "        5], dtype=int64)])\n"
     ]
    }
   ],
   "source": [
    "#Baseplot - Declare Data:\n",
    "rocktype = np.array(df['rock_name'])\n",
    "kmax = np.array(df['k_max'])\n",
    "kmin = np.array(df['k_min'])\n",
    "loc = np.array(df['loc'])\n",
    "\n",
    "# Baseplot - Create Arrays from BasePlot Data:\n",
    "rocktype_np = np.array(rocktype)\n",
    "kmax_np = np.array(kmax)\n",
    "kmin_np = np.array(kmin)\n",
    "loc_np = np.array(loc)\n",
    "height = kmax_np-kmin_np\n",
    "\n",
    "georocdata = ([rocktype_np], [kmax_np], [kmin_np], [loc_np])\n",
    "print(georocdata)\n"
   ]
  },
  {
   "cell_type": "code",
   "execution_count": 4,
   "metadata": {},
   "outputs": [
    {
     "data": {
      "text/html": [
       "<div>\n",
       "<style scoped>\n",
       "    .dataframe tbody tr th:only-of-type {\n",
       "        vertical-align: middle;\n",
       "    }\n",
       "\n",
       "    .dataframe tbody tr th {\n",
       "        vertical-align: top;\n",
       "    }\n",
       "\n",
       "    .dataframe thead th {\n",
       "        text-align: right;\n",
       "    }\n",
       "</style>\n",
       "<table border=\"1\" class=\"dataframe\">\n",
       "  <thead>\n",
       "    <tr style=\"text-align: right;\">\n",
       "      <th></th>\n",
       "      <th>Bore_ID</th>\n",
       "      <th>Area</th>\n",
       "      <th>Formation</th>\n",
       "      <th>K-value (m/d)</th>\n",
       "    </tr>\n",
       "  </thead>\n",
       "  <tbody>\n",
       "    <tr>\n",
       "      <th>0</th>\n",
       "      <td>NKW-TW01</td>\n",
       "      <td>NKW</td>\n",
       "      <td>Fractured Igneous and Metamorphic Rocks</td>\n",
       "      <td>16.200000</td>\n",
       "    </tr>\n",
       "    <tr>\n",
       "      <th>1</th>\n",
       "      <td>DSM-TW01</td>\n",
       "      <td>DSME</td>\n",
       "      <td>Limestone and Dolomite</td>\n",
       "      <td>0.012800</td>\n",
       "    </tr>\n",
       "    <tr>\n",
       "      <th>2</th>\n",
       "      <td>DSME-VWP01</td>\n",
       "      <td>DSME</td>\n",
       "      <td>Weathered Granite</td>\n",
       "      <td>0.300000</td>\n",
       "    </tr>\n",
       "    <tr>\n",
       "      <th>3</th>\n",
       "      <td>DSWM-MP02</td>\n",
       "      <td>DSWM</td>\n",
       "      <td>Unfractured Igneous and Metamorphic Rocks</td>\n",
       "      <td>0.000003</td>\n",
       "    </tr>\n",
       "  </tbody>\n",
       "</table>\n",
       "</div>"
      ],
      "text/plain": [
       "      Bore_ID  Area                                  Formation  K-value (m/d)\n",
       "0    NKW-TW01   NKW    Fractured Igneous and Metamorphic Rocks      16.200000\n",
       "1    DSM-TW01  DSME                     Limestone and Dolomite       0.012800\n",
       "2  DSME-VWP01  DSME                          Weathered Granite       0.300000\n",
       "3   DSWM-MP02  DSWM  Unfractured Igneous and Metamorphic Rocks       0.000003"
      ]
     },
     "execution_count": 4,
     "metadata": {},
     "output_type": "execute_result"
    }
   ],
   "source": [
    "# Data - Examples of Aquifer Test K-values that I want to Plot as Points onto the Grapth\n",
    "\n",
    "#Data - Import field/Aquifer Test Data:\n",
    "data = pd.read_csv('AQT_KValues.csv')\n",
    "data"
   ]
  },
  {
   "cell_type": "code",
   "execution_count": 5,
   "metadata": {},
   "outputs": [
    {
     "data": {
      "text/plain": [
       "array(['Weathered Granite', 'Karst Limestone', 'Permeable Basalt',\n",
       "       'Fractured Igneous and Metamorphic Rocks',\n",
       "       'Limestone and Dolomite', 'Sandstone', 'Kimberlite Pipes', 'Shale',\n",
       "       'Unfractured Igneous and Metamorphic Rocks',\n",
       "       'Unweathered Marine Clay', 'Glacial Till', 'Silt, Loess',\n",
       "       'Silty Sand', 'Clean Sand', 'Gravel', 'Coarse Sand', 'Medium Sand',\n",
       "       'Fine Sand'], dtype=object)"
      ]
     },
     "execution_count": 5,
     "metadata": {},
     "output_type": "execute_result"
    }
   ],
   "source": [
    "rocktype_np"
   ]
  },
  {
   "cell_type": "code",
   "execution_count": 6,
   "metadata": {},
   "outputs": [
    {
     "data": {
      "text/plain": [
       "array([4.49e+00, 1.73e+03, 1.73e+03, 2.59e+01, 5.18e-01, 5.18e-01,\n",
       "       1.50e+00, 1.73e-04, 1.70e-05, 1.73e-04, 1.73e-01, 1.73e+00,\n",
       "       2.00e+01, 3.00e+02, 2.59e+03, 5.18e+02, 4.32e+01, 1.73e+01])"
      ]
     },
     "execution_count": 6,
     "metadata": {},
     "output_type": "execute_result"
    }
   ],
   "source": [
    "kmax_np"
   ]
  },
  {
   "cell_type": "code",
   "execution_count": 14,
   "metadata": {},
   "outputs": [
    {
     "data": {
      "image/png": "[encoded data removed]",
      "text/plain": [
       "<Figure size 864x576 with 1 Axes>"
      ]
     },
     "metadata": {
      "needs_background": "light"
     },
     "output_type": "display_data"
    }
   ],
   "source": [
    "#plt.barh(y, width, height=0.8, left=None, *, align='center /edge', **kwargs)\n",
    "\n",
    "fig,(ax)=plt.subplots(1,1,figsize=(12,8))     \n",
    "\n",
    "#Plot Hydrualic Conductivity Zones:\n",
    "plt.axvspan(100, 10000, facecolor='r', alpha=0.14)             #'High'\n",
    "plt.axvspan(0.1, 100, facecolor='y', alpha=0.14)               #'Intermediate'\n",
    "plt.axvspan(0.001, 0.1, facecolor='g', alpha=0.14)              #'Low'\n",
    "plt.axvspan(0.000001, 0.001, facecolor='b', alpha=0.14)         #'Very Low'\n",
    "plt.axvspan(0.000000001, 0.000001, facecolor='k', alpha=0.11)  #'Essent. Impermeable'\n",
    "\n",
    "ax.barh(rocktype_np, kmax_np, left= kmin_np, height=-0.8, align='center', color='lightsteelblue',zorder=1) #color hex=#eac086 #BCDFC1\n",
    "ax.scatter(data['K-value (m/d)'], data['Formation'], marker='o', zorder=10, color='r')\n",
    "\n",
    "\n",
    "#ax.axvline(100, color='k', label='High',alpha=0.3)\n",
    "#ax.axvline(0.1, color='k', label='Intermediate', alpha=0.3)\n",
    "#ax.axvline(0.01, color='k', label='Low', alpha=0.3)\n",
    "#ax.axvline(0.001, color='k', label='Very Low', alpha=0.3)\n",
    "#ax.axvline(0.000001, color='k', label='Essent. Impermeable', alpha=0.3)\n",
    "\n",
    "ax.set_xscale('log')\n",
    "#ax.set_xticks()\n",
    "\n",
    "ax.set_xlabel('Hydraulic Conductivity (m/d)      [source: Freeze and Cherry, 1979]')\n",
    "ax.set_title('Hydraulic Conductivity Ranges for Rock Types')\n",
    "n = data['Bore_ID']\n",
    "for i, txt in enumerate(n):\n",
    "    ax.annotate(txt, (data['K-value (m/d)'][i], data['Formation'][i]))\n",
    "\n",
    "ax.grid()\n",
    "ax.set_xlim(0.000000001,10000)\n",
    "# save the figure to file\n",
    "plt.savefig(r'K_Plot1.png',dpi=300,bbox_inches='tight') \n",
    "\n",
    "#plt.legend()\n",
    "#ax.show()"
   ]
  },
  {
   "cell_type": "code",
   "execution_count": null,
   "metadata": {},
   "outputs": [],
   "source": []
  },
  {
   "cell_type": "code",
   "execution_count": null,
   "metadata": {},
   "outputs": [],
   "source": []
  }
 ],
 "metadata": {
  "kernelspec": {
   "display_name": "Python 3 (ipykernel)",
   "language": "python",
   "name": "python3"
  },
  "language_info": {
   "codemirror_mode": {
    "name": "ipython",
    "version": 3
   },
   "file_extension": ".py",
   "mimetype": "text/x-python",
   "name": "python",
   "nbconvert_exporter": "python",
   "pygments_lexer": "ipython3",
   "version": "3.8.12"
  }
 },
 "nbformat": 4,
 "nbformat_minor": 4
}
